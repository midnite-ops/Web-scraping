{
 "cells": [
  {
   "cell_type": "code",
   "execution_count": 3,
   "id": "532a81a0",
   "metadata": {},
   "outputs": [
    {
     "name": "stdout",
     "output_type": "stream",
     "text": [
      "Search: fish\n",
      "\n",
      "\n",
      "\n",
      "A fish (pl.: fish or fishes) is an aquatic, craniate, gill-bearing animal that lacks limbs with digits. Included in this definition are the living hagfish, lampreys, and cartilaginous and bony fish as well as various extinct related groups. Approximately 95% of living fish species are ray-finned fish, belonging to the class Actinopterygii, with around 99% of those being teleosts.\n",
      "\n"
     ]
    }
   ],
   "source": [
    "import requests\n",
    "import string\n",
    "from bs4 import BeautifulSoup\n",
    "\n",
    "search = input(\"Search: \")\n",
    "u_i = string.capwords(search)\n",
    "lists = u_i.split()\n",
    "word_list = \"_\".join(lists)\n",
    "\n",
    "url = \"https://en.wikipedia.org/wiki/\"+word_list\n",
    "\n",
    "def wikipedia(url):\n",
    "    url_open =requests.get(url)\n",
    "    soup = BeautifulSoup( url_open.content,'html.parser')\n",
    "    details =soup('table',{'class':'infobox'})\n",
    "    for i in details:\n",
    "        h =i.find_all('tr')\n",
    "        for j in h:\n",
    "            heading = j.find_all('th')\n",
    "            detail = j.find_all('td')\n",
    "            if heading is not None and detail is not None:\n",
    "                for x,y in zip(heading,detail):\n",
    "                    print(\"{}  ::  {}\".format(x.text,y.text))\n",
    "                    print(\"------------------\")\n",
    "    for i in range(1,3):\n",
    "        print(soup('p')[i].text)\n",
    "wikipedia(url) "
   ]
  },
  {
   "cell_type": "code",
   "execution_count": null,
   "id": "af23d54a",
   "metadata": {},
   "outputs": [],
   "source": []
  }
 ],
 "metadata": {
  "kernelspec": {
   "display_name": "Python 3 (ipykernel)",
   "language": "python",
   "name": "python3"
  },
  "language_info": {
   "codemirror_mode": {
    "name": "ipython",
    "version": 3
   },
   "file_extension": ".py",
   "mimetype": "text/x-python",
   "name": "python",
   "nbconvert_exporter": "python",
   "pygments_lexer": "ipython3",
   "version": "3.11.5"
  }
 },
 "nbformat": 4,
 "nbformat_minor": 5
}
